{
 "cells": [
  {
   "cell_type": "code",
   "execution_count": 9,
   "metadata": {},
   "outputs": [
    {
     "data": {
      "text/html": [
       "<div>\n",
       "<style scoped>\n",
       "    .dataframe tbody tr th:only-of-type {\n",
       "        vertical-align: middle;\n",
       "    }\n",
       "\n",
       "    .dataframe tbody tr th {\n",
       "        vertical-align: top;\n",
       "    }\n",
       "\n",
       "    .dataframe thead th {\n",
       "        text-align: right;\n",
       "    }\n",
       "</style>\n",
       "<table border=\"1\" class=\"dataframe\">\n",
       "  <thead>\n",
       "    <tr style=\"text-align: right;\">\n",
       "      <th></th>\n",
       "      <th>Abandono</th>\n",
       "    </tr>\n",
       "    <tr>\n",
       "      <th>Fecha</th>\n",
       "      <th></th>\n",
       "    </tr>\n",
       "  </thead>\n",
       "  <tbody>\n",
       "    <tr>\n",
       "      <td>2019-02-01</td>\n",
       "      <td>164</td>\n",
       "    </tr>\n",
       "    <tr>\n",
       "      <td>2019-02-02</td>\n",
       "      <td>63</td>\n",
       "    </tr>\n",
       "    <tr>\n",
       "      <td>2019-02-03</td>\n",
       "      <td>239</td>\n",
       "    </tr>\n",
       "    <tr>\n",
       "      <td>2019-02-04</td>\n",
       "      <td>2</td>\n",
       "    </tr>\n",
       "    <tr>\n",
       "      <td>2019-02-05</td>\n",
       "      <td>502</td>\n",
       "    </tr>\n",
       "  </tbody>\n",
       "</table>\n",
       "</div>"
      ],
      "text/plain": [
       "            Abandono\n",
       "Fecha               \n",
       "2019-02-01       164\n",
       "2019-02-02        63\n",
       "2019-02-03       239\n",
       "2019-02-04         2\n",
       "2019-02-05       502"
      ]
     },
     "execution_count": 9,
     "metadata": {},
     "output_type": "execute_result"
    }
   ],
   "source": [
    "\n",
    "import pandas as pd\n",
    "import numpy as np\n",
    "import matplotlib.pylab as plt\n",
    "%matplotlib inline\n",
    "plt.rcParams['figure.figsize'] = (16, 9)\n",
    "plt.style.use('fast')\n",
    " \n",
    "from keras.models import Sequential\n",
    "from keras.layers import Dense,Activation,Flatten\n",
    "from sklearn.preprocessing import MinMaxScaler\n",
    " \n",
    "df = pd.read_csv(\"./data/finance/febaban1.csv\",parse_dates=[0],index_col=0)\n",
    "df.head()"
   ]
  },
  {
   "cell_type": "code",
   "execution_count": 10,
   "metadata": {},
   "outputs": [
    {
     "name": "stdout",
     "output_type": "stream",
     "text": [
      "2019-02-01 00:00:00\n",
      "2020-02-15 00:00:00\n"
     ]
    }
   ],
   "source": [
    "\n",
    "print(df.index.min())\n",
    "print(df.index.max())\n"
   ]
  },
  {
   "cell_type": "code",
   "execution_count": 11,
   "metadata": {},
   "outputs": [
    {
     "data": {
      "text/html": [
       "<div>\n",
       "<style scoped>\n",
       "    .dataframe tbody tr th:only-of-type {\n",
       "        vertical-align: middle;\n",
       "    }\n",
       "\n",
       "    .dataframe tbody tr th {\n",
       "        vertical-align: top;\n",
       "    }\n",
       "\n",
       "    .dataframe thead th {\n",
       "        text-align: right;\n",
       "    }\n",
       "</style>\n",
       "<table border=\"1\" class=\"dataframe\">\n",
       "  <thead>\n",
       "    <tr style=\"text-align: right;\">\n",
       "      <th></th>\n",
       "      <th>var1(t-7)</th>\n",
       "      <th>var1(t-6)</th>\n",
       "      <th>var1(t-5)</th>\n",
       "      <th>var1(t-4)</th>\n",
       "      <th>var1(t-3)</th>\n",
       "      <th>var1(t-2)</th>\n",
       "      <th>var1(t-1)</th>\n",
       "      <th>var1(t)</th>\n",
       "    </tr>\n",
       "  </thead>\n",
       "  <tbody>\n",
       "    <tr>\n",
       "      <td>7</td>\n",
       "      <td>-0.565684</td>\n",
       "      <td>-0.836461</td>\n",
       "      <td>-0.364611</td>\n",
       "      <td>-1.000000</td>\n",
       "      <td>0.340483</td>\n",
       "      <td>-0.466488</td>\n",
       "      <td>-0.522788</td>\n",
       "      <td>-0.710456</td>\n",
       "    </tr>\n",
       "    <tr>\n",
       "      <td>8</td>\n",
       "      <td>-0.836461</td>\n",
       "      <td>-0.364611</td>\n",
       "      <td>-1.000000</td>\n",
       "      <td>0.340483</td>\n",
       "      <td>-0.466488</td>\n",
       "      <td>-0.522788</td>\n",
       "      <td>-0.710456</td>\n",
       "      <td>-0.986595</td>\n",
       "    </tr>\n",
       "    <tr>\n",
       "      <td>9</td>\n",
       "      <td>-0.364611</td>\n",
       "      <td>-1.000000</td>\n",
       "      <td>0.340483</td>\n",
       "      <td>-0.466488</td>\n",
       "      <td>-0.522788</td>\n",
       "      <td>-0.710456</td>\n",
       "      <td>-0.986595</td>\n",
       "      <td>-0.983914</td>\n",
       "    </tr>\n",
       "    <tr>\n",
       "      <td>10</td>\n",
       "      <td>-1.000000</td>\n",
       "      <td>0.340483</td>\n",
       "      <td>-0.466488</td>\n",
       "      <td>-0.522788</td>\n",
       "      <td>-0.710456</td>\n",
       "      <td>-0.986595</td>\n",
       "      <td>-0.983914</td>\n",
       "      <td>-0.646113</td>\n",
       "    </tr>\n",
       "    <tr>\n",
       "      <td>11</td>\n",
       "      <td>0.340483</td>\n",
       "      <td>-0.466488</td>\n",
       "      <td>-0.522788</td>\n",
       "      <td>-0.710456</td>\n",
       "      <td>-0.986595</td>\n",
       "      <td>-0.983914</td>\n",
       "      <td>-0.646113</td>\n",
       "      <td>-0.930295</td>\n",
       "    </tr>\n",
       "  </tbody>\n",
       "</table>\n",
       "</div>"
      ],
      "text/plain": [
       "    var1(t-7)  var1(t-6)  var1(t-5)  var1(t-4)  var1(t-3)  var1(t-2)  \\\n",
       "7   -0.565684  -0.836461  -0.364611  -1.000000   0.340483  -0.466488   \n",
       "8   -0.836461  -0.364611  -1.000000   0.340483  -0.466488  -0.522788   \n",
       "9   -0.364611  -1.000000   0.340483  -0.466488  -0.522788  -0.710456   \n",
       "10  -1.000000   0.340483  -0.466488  -0.522788  -0.710456  -0.986595   \n",
       "11   0.340483  -0.466488  -0.522788  -0.710456  -0.986595  -0.983914   \n",
       "\n",
       "    var1(t-1)   var1(t)  \n",
       "7   -0.522788 -0.710456  \n",
       "8   -0.710456 -0.986595  \n",
       "9   -0.986595 -0.983914  \n",
       "10  -0.983914 -0.646113  \n",
       "11  -0.646113 -0.930295  "
      ]
     },
     "execution_count": 11,
     "metadata": {},
     "output_type": "execute_result"
    }
   ],
   "source": [
    "PASOS=7\n",
    " \n",
    "# convert series to supervised learning\n",
    "def series_to_supervised(data, n_in=1, n_out=1, dropnan=True):\n",
    "    n_vars = 1 if type(data) is list else data.shape[1]\n",
    "    df = pd.DataFrame(data)\n",
    "    cols, names = list(), list()\n",
    "    # input sequence (t-n, ... t-1)\n",
    "    for i in range(n_in, 0, -1):\n",
    "        cols.append(df.shift(i))\n",
    "        names += [('var%d(t-%d)' % (j+1, i)) for j in range(n_vars)]\n",
    "    # forecast sequence (t, t+1, ... t+n)\n",
    "    for i in range(0, n_out):\n",
    "        cols.append(df.shift(-i))\n",
    "        if i == 0:\n",
    "            names += [('var%d(t)' % (j+1)) for j in range(n_vars)]\n",
    "        else:\n",
    "            names += [('var%d(t+%d)' % (j+1, i)) for j in range(n_vars)]\n",
    "    # put it all together\n",
    "    agg = pd.concat(cols, axis=1)\n",
    "    agg.columns = names\n",
    "    # drop rows with NaN values\n",
    "    if dropnan:\n",
    "        agg.dropna(inplace=True)\n",
    "    return agg\n",
    " \n",
    "# load dataset\n",
    "values = df.values\n",
    "# ensure all data is float\n",
    "values = values.astype('datetime64')\n",
    "# normalize features\n",
    "scaler = MinMaxScaler(feature_range=(-1, 1))\n",
    "values=values.reshape(-1, 1) # esto lo hacemos porque tenemos 1 sola dimension\n",
    "scaled = scaler.fit_transform(values)\n",
    "# frame as supervised learning\n",
    "reframed = series_to_supervised(scaled, PASOS, 1)\n",
    "reframed.head()"
   ]
  },
  {
   "cell_type": "code",
   "execution_count": 12,
   "metadata": {},
   "outputs": [
    {
     "name": "stdout",
     "output_type": "stream",
     "text": [
      "(19, 1, 7) (19,) (17, 1, 7) (17,)\n"
     ]
    }
   ],
   "source": [
    "\n",
    "# split into train and test sets\n",
    "values = reframed.values\n",
    "n_train_days = 28+1 - (3+PASOS)\n",
    "train = values[:n_train_days, :]\n",
    "test = values[n_train_days:, :]\n",
    "# split into input and outputs\n",
    "x_train, y_train = train[:, :-1], train[:, -1]\n",
    "x_val, y_val = test[:, :-1], test[:, -1]\n",
    "# reshape input to be 3D [samples, timesteps, features]\n",
    "x_train = x_train.reshape((x_train.shape[0], 1, x_train.shape[1]))\n",
    "x_val = x_val.reshape((x_val.shape[0], 1, x_val.shape[1]))\n",
    "print(x_train.shape, y_train.shape, x_val.shape, y_val.shape)"
   ]
  },
  {
   "cell_type": "code",
   "execution_count": 13,
   "metadata": {},
   "outputs": [],
   "source": [
    "\n",
    "def crear_modeloFF():\n",
    "    model = Sequential() \n",
    "    model.add(Dense(PASOS, input_shape=(1,PASOS),activation='tanh'))\n",
    "    model.add(Flatten())\n",
    "    model.add(Dense(1, activation='tanh'))\n",
    "    model.compile(loss='mean_absolute_error',optimizer='Adam',metrics=[\"mse\"])\n",
    "    model.summary()\n",
    "    return model"
   ]
  },
  {
   "cell_type": "code",
   "execution_count": 18,
   "metadata": {},
   "outputs": [
    {
     "name": "stdout",
     "output_type": "stream",
     "text": [
      "Model: \"sequential_4\"\n",
      "_________________________________________________________________\n",
      "Layer (type)                 Output Shape              Param #   \n",
      "=================================================================\n",
      "dense_7 (Dense)              (None, 1, 7)              56        \n",
      "_________________________________________________________________\n",
      "flatten_4 (Flatten)          (None, 7)                 0         \n",
      "_________________________________________________________________\n",
      "dense_8 (Dense)              (None, 1)                 8         \n",
      "=================================================================\n",
      "Total params: 64\n",
      "Trainable params: 64\n",
      "Non-trainable params: 0\n",
      "_________________________________________________________________\n",
      "Train on 19 samples, validate on 17 samples\n",
      "Epoch 1/7\n",
      "19/19 [==============================] - ETA: 0s - loss: 0.4632 - mse: 0.394 - 1s 36ms/step - loss: 0.6244 - mse: 0.5547 - val_loss: 0.4398 - val_mse: 0.2706\n",
      "Epoch 2/7\n",
      "19/19 [==============================] - 0s 1ms/step - loss: 0.5974 - mse: 0.5296 - val_loss: 0.4042 - val_mse: 0.2340\n",
      "Epoch 3/7\n",
      "19/19 [==============================] - 0s 1ms/step - loss: 0.5687 - mse: 0.4990 - val_loss: 0.3693 - val_mse: 0.2019\n",
      "Epoch 4/7\n",
      "19/19 [==============================] - 0s 922us/step - loss: 0.5477 - mse: 0.4818 - val_loss: 0.3385 - val_mse: 0.1738\n",
      "Epoch 5/7\n",
      "19/19 [==============================] - 0s 1ms/step - loss: 0.5210 - mse: 0.4524 - val_loss: 0.3111 - val_mse: 0.1511\n",
      "Epoch 6/7\n",
      "19/19 [==============================] - 0s 1ms/step - loss: 0.5026 - mse: 0.4363 - val_loss: 0.2929 - val_mse: 0.1316\n",
      "Epoch 7/7\n",
      "19/19 [==============================] - 0s 1ms/step - loss: 0.4787 - mse: 0.4172 - val_loss: 0.2772 - val_mse: 0.1162\n"
     ]
    }
   ],
   "source": [
    "\n",
    "EPOCHS=7\n",
    "model = crear_modeloFF()\n",
    "\n",
    "history=model.fit(x_train,y_train,epochs=EPOCHS,validation_data=(x_val,y_val),batch_size=PASOS)\n"
   ]
  },
  {
   "cell_type": "code",
   "execution_count": 19,
   "metadata": {},
   "outputs": [
    {
     "data": {
      "image/png": "[encoded data removed]",
      "text/plain": [
       "<Figure size 1152x648 with 1 Axes>"
      ]
     },
     "metadata": {
      "needs_background": "light"
     },
     "output_type": "display_data"
    }
   ],
   "source": [
    "results=model.predict(x_val)\n",
    "plt.scatter(range(len(y_val)),y_val,c='g')\n",
    "plt.scatter(range(len(results)),results,c='r')\n",
    "plt.title('validate')\n",
    "plt.show()"
   ]
  },
  {
   "cell_type": "code",
   "execution_count": 20,
   "metadata": {},
   "outputs": [
    {
     "data": {
      "image/png": "[encoded data removed]",
      "text/plain": [
       "<Figure size 1152x648 with 1 Axes>"
      ]
     },
     "metadata": {
      "needs_background": "light"
     },
     "output_type": "display_data"
    }
   ],
   "source": [
    "plt.plot(history.history['loss'])\n",
    "plt.title('loss')\n",
    "plt.plot(history.history['val_loss'])\n",
    "plt.title('validate loss')\n",
    "plt.show()"
   ]
  },
  {
   "cell_type": "code",
   "execution_count": 21,
   "metadata": {},
   "outputs": [
    {
     "data": {
      "text/html": [
       "<div>\n",
       "<style scoped>\n",
       "    .dataframe tbody tr th:only-of-type {\n",
       "        vertical-align: middle;\n",
       "    }\n",
       "\n",
       "    .dataframe tbody tr th {\n",
       "        vertical-align: top;\n",
       "    }\n",
       "\n",
       "    .dataframe thead th {\n",
       "        text-align: right;\n",
       "    }\n",
       "</style>\n",
       "<table border=\"1\" class=\"dataframe\">\n",
       "  <thead>\n",
       "    <tr style=\"text-align: right;\">\n",
       "      <th></th>\n",
       "      <th>Abandono</th>\n",
       "    </tr>\n",
       "    <tr>\n",
       "      <th>Fecha</th>\n",
       "      <th></th>\n",
       "    </tr>\n",
       "  </thead>\n",
       "  <tbody>\n",
       "    <tr>\n",
       "      <td>2019-02-01</td>\n",
       "      <td>164</td>\n",
       "    </tr>\n",
       "    <tr>\n",
       "      <td>2019-02-02</td>\n",
       "      <td>63</td>\n",
       "    </tr>\n",
       "    <tr>\n",
       "      <td>2019-02-03</td>\n",
       "      <td>239</td>\n",
       "    </tr>\n",
       "    <tr>\n",
       "      <td>2019-02-04</td>\n",
       "      <td>2</td>\n",
       "    </tr>\n",
       "    <tr>\n",
       "      <td>2019-02-05</td>\n",
       "      <td>502</td>\n",
       "    </tr>\n",
       "  </tbody>\n",
       "</table>\n",
       "</div>"
      ],
      "text/plain": [
       "            Abandono\n",
       "Fecha               \n",
       "2019-02-01       164\n",
       "2019-02-02        63\n",
       "2019-02-03       239\n",
       "2019-02-04         2\n",
       "2019-02-05       502"
      ]
     },
     "execution_count": 21,
     "metadata": {},
     "output_type": "execute_result"
    }
   ],
   "source": [
    "df.head()"
   ]
  },
  {
   "cell_type": "code",
   "execution_count": 22,
   "metadata": {},
   "outputs": [
    {
     "data": {
      "text/html": [
       "<div>\n",
       "<style scoped>\n",
       "    .dataframe tbody tr th:only-of-type {\n",
       "        vertical-align: middle;\n",
       "    }\n",
       "\n",
       "    .dataframe tbody tr th {\n",
       "        vertical-align: top;\n",
       "    }\n",
       "\n",
       "    .dataframe thead th {\n",
       "        text-align: right;\n",
       "    }\n",
       "</style>\n",
       "<table border=\"1\" class=\"dataframe\">\n",
       "  <thead>\n",
       "    <tr style=\"text-align: right;\">\n",
       "      <th></th>\n",
       "      <th>Abandono</th>\n",
       "    </tr>\n",
       "    <tr>\n",
       "      <th>Fecha</th>\n",
       "      <th></th>\n",
       "    </tr>\n",
       "  </thead>\n",
       "  <tbody>\n",
       "    <tr>\n",
       "      <td>2019-02-15</td>\n",
       "      <td>93</td>\n",
       "    </tr>\n",
       "    <tr>\n",
       "      <td>2019-02-16</td>\n",
       "      <td>18</td>\n",
       "    </tr>\n",
       "    <tr>\n",
       "      <td>2019-02-17</td>\n",
       "      <td>6</td>\n",
       "    </tr>\n",
       "    <tr>\n",
       "      <td>2019-02-18</td>\n",
       "      <td>748</td>\n",
       "    </tr>\n",
       "    <tr>\n",
       "      <td>2019-02-19</td>\n",
       "      <td>192</td>\n",
       "    </tr>\n",
       "    <tr>\n",
       "      <td>2019-02-20</td>\n",
       "      <td>63</td>\n",
       "    </tr>\n",
       "    <tr>\n",
       "      <td>2019-02-21</td>\n",
       "      <td>127</td>\n",
       "    </tr>\n",
       "    <tr>\n",
       "      <td>2019-02-22</td>\n",
       "      <td>90</td>\n",
       "    </tr>\n",
       "    <tr>\n",
       "      <td>2019-02-23</td>\n",
       "      <td>7</td>\n",
       "    </tr>\n",
       "    <tr>\n",
       "      <td>2019-02-24</td>\n",
       "      <td>10</td>\n",
       "    </tr>\n",
       "    <tr>\n",
       "      <td>2019-02-25</td>\n",
       "      <td>486</td>\n",
       "    </tr>\n",
       "    <tr>\n",
       "      <td>2019-02-26</td>\n",
       "      <td>209</td>\n",
       "    </tr>\n",
       "    <tr>\n",
       "      <td>2019-02-27</td>\n",
       "      <td>181</td>\n",
       "    </tr>\n",
       "    <tr>\n",
       "      <td>2019-02-28</td>\n",
       "      <td>84</td>\n",
       "    </tr>\n",
       "  </tbody>\n",
       "</table>\n",
       "</div>"
      ],
      "text/plain": [
       "            Abandono\n",
       "Fecha               \n",
       "2019-02-15        93\n",
       "2019-02-16        18\n",
       "2019-02-17         6\n",
       "2019-02-18       748\n",
       "2019-02-19       192\n",
       "2019-02-20        63\n",
       "2019-02-21       127\n",
       "2019-02-22        90\n",
       "2019-02-23         7\n",
       "2019-02-24        10\n",
       "2019-02-25       486\n",
       "2019-02-26       209\n",
       "2019-02-27       181\n",
       "2019-02-28        84"
      ]
     },
     "execution_count": 22,
     "metadata": {},
     "output_type": "execute_result"
    }
   ],
   "source": [
    "ultimosDias = df['2019-02-15':'2019-02-28']\n",
    "ultimosDias"
   ]
  },
  {
   "cell_type": "code",
   "execution_count": 23,
   "metadata": {},
   "outputs": [
    {
     "data": {
      "text/html": [
       "<div>\n",
       "<style scoped>\n",
       "    .dataframe tbody tr th:only-of-type {\n",
       "        vertical-align: middle;\n",
       "    }\n",
       "\n",
       "    .dataframe tbody tr th {\n",
       "        vertical-align: top;\n",
       "    }\n",
       "\n",
       "    .dataframe thead th {\n",
       "        text-align: right;\n",
       "    }\n",
       "</style>\n",
       "<table border=\"1\" class=\"dataframe\">\n",
       "  <thead>\n",
       "    <tr style=\"text-align: right;\">\n",
       "      <th></th>\n",
       "      <th>var1(t-7)</th>\n",
       "      <th>var1(t-6)</th>\n",
       "      <th>var1(t-5)</th>\n",
       "      <th>var1(t-4)</th>\n",
       "      <th>var1(t-3)</th>\n",
       "      <th>var1(t-2)</th>\n",
       "      <th>var1(t-1)</th>\n",
       "    </tr>\n",
       "  </thead>\n",
       "  <tbody>\n",
       "    <tr>\n",
       "      <td>7</td>\n",
       "      <td>-0.765499</td>\n",
       "      <td>-0.967655</td>\n",
       "      <td>-1.000000</td>\n",
       "      <td>1.000000</td>\n",
       "      <td>-0.498652</td>\n",
       "      <td>-0.846361</td>\n",
       "      <td>-0.673854</td>\n",
       "    </tr>\n",
       "    <tr>\n",
       "      <td>8</td>\n",
       "      <td>-0.967655</td>\n",
       "      <td>-1.000000</td>\n",
       "      <td>1.000000</td>\n",
       "      <td>-0.498652</td>\n",
       "      <td>-0.846361</td>\n",
       "      <td>-0.673854</td>\n",
       "      <td>-0.773585</td>\n",
       "    </tr>\n",
       "    <tr>\n",
       "      <td>9</td>\n",
       "      <td>-1.000000</td>\n",
       "      <td>1.000000</td>\n",
       "      <td>-0.498652</td>\n",
       "      <td>-0.846361</td>\n",
       "      <td>-0.673854</td>\n",
       "      <td>-0.773585</td>\n",
       "      <td>-0.997305</td>\n",
       "    </tr>\n",
       "    <tr>\n",
       "      <td>10</td>\n",
       "      <td>1.000000</td>\n",
       "      <td>-0.498652</td>\n",
       "      <td>-0.846361</td>\n",
       "      <td>-0.673854</td>\n",
       "      <td>-0.773585</td>\n",
       "      <td>-0.997305</td>\n",
       "      <td>-0.989218</td>\n",
       "    </tr>\n",
       "    <tr>\n",
       "      <td>11</td>\n",
       "      <td>-0.498652</td>\n",
       "      <td>-0.846361</td>\n",
       "      <td>-0.673854</td>\n",
       "      <td>-0.773585</td>\n",
       "      <td>-0.997305</td>\n",
       "      <td>-0.989218</td>\n",
       "      <td>0.293801</td>\n",
       "    </tr>\n",
       "    <tr>\n",
       "      <td>12</td>\n",
       "      <td>-0.846361</td>\n",
       "      <td>-0.673854</td>\n",
       "      <td>-0.773585</td>\n",
       "      <td>-0.997305</td>\n",
       "      <td>-0.989218</td>\n",
       "      <td>0.293801</td>\n",
       "      <td>-0.452830</td>\n",
       "    </tr>\n",
       "    <tr>\n",
       "      <td>13</td>\n",
       "      <td>-0.673854</td>\n",
       "      <td>-0.773585</td>\n",
       "      <td>-0.997305</td>\n",
       "      <td>-0.989218</td>\n",
       "      <td>0.293801</td>\n",
       "      <td>-0.452830</td>\n",
       "      <td>-0.528302</td>\n",
       "    </tr>\n",
       "  </tbody>\n",
       "</table>\n",
       "</div>"
      ],
      "text/plain": [
       "    var1(t-7)  var1(t-6)  var1(t-5)  var1(t-4)  var1(t-3)  var1(t-2)  \\\n",
       "7   -0.765499  -0.967655  -1.000000   1.000000  -0.498652  -0.846361   \n",
       "8   -0.967655  -1.000000   1.000000  -0.498652  -0.846361  -0.673854   \n",
       "9   -1.000000   1.000000  -0.498652  -0.846361  -0.673854  -0.773585   \n",
       "10   1.000000  -0.498652  -0.846361  -0.673854  -0.773585  -0.997305   \n",
       "11  -0.498652  -0.846361  -0.673854  -0.773585  -0.997305  -0.989218   \n",
       "12  -0.846361  -0.673854  -0.773585  -0.997305  -0.989218   0.293801   \n",
       "13  -0.673854  -0.773585  -0.997305  -0.989218   0.293801  -0.452830   \n",
       "\n",
       "    var1(t-1)  \n",
       "7   -0.673854  \n",
       "8   -0.773585  \n",
       "9   -0.997305  \n",
       "10  -0.989218  \n",
       "11   0.293801  \n",
       "12  -0.452830  \n",
       "13  -0.528302  "
      ]
     },
     "execution_count": 23,
     "metadata": {},
     "output_type": "execute_result"
    }
   ],
   "source": [
    "values = ultimosDias.values\n",
    "values = values.astype('int64')\n",
    "# normalize features\n",
    "values=values.reshape(-1, 1) # esto lo hacemos porque tenemos 1 sola dimension\n",
    "scaled = scaler.fit_transform(values)\n",
    "reframed = series_to_supervised(scaled, PASOS, 1)\n",
    "reframed.drop(reframed.columns[[7]], axis=1, inplace=True)\n",
    "reframed.head(7)"
   ]
  },
  {
   "cell_type": "code",
   "execution_count": 24,
   "metadata": {},
   "outputs": [
    {
     "data": {
      "text/plain": [
       "array([[[-0.67385445, -0.77358491, -0.99730458, -0.98921833,\n",
       "          0.29380054, -0.45283019, -0.52830189]]])"
      ]
     },
     "execution_count": 24,
     "metadata": {},
     "output_type": "execute_result"
    }
   ],
   "source": [
    "values = reframed.values\n",
    "x_test = values[6:, :]\n",
    "x_test = x_test.reshape((x_test.shape[0], 1, x_test.shape[1]))\n",
    "x_test"
   ]
  },
  {
   "cell_type": "code",
   "execution_count": 25,
   "metadata": {},
   "outputs": [
    {
     "name": "stdout",
     "output_type": "stream",
     "text": [
      "[[[-0.67385445 -0.77358491 -0.99730458 -0.98921833  0.29380054\n",
      "   -0.45283019 -0.52830189]]]\n",
      "[[[-0.77358491 -0.99730458 -0.98921833  0.29380054 -0.45283019\n",
      "   -0.52830189 -0.51912791]]]\n",
      "[[[-0.99730458 -0.98921833  0.29380054 -0.45283019 -0.52830189\n",
      "   -0.51912791 -0.01384754]]]\n",
      "[[[-0.98921833  0.29380054 -0.45283019 -0.52830189 -0.51912791\n",
      "   -0.01384754 -0.40416583]]]\n",
      "[[[ 0.29380054 -0.45283019 -0.52830189 -0.51912791 -0.01384754\n",
      "   -0.40416583 -0.4832949 ]]]\n",
      "[[[-0.45283019 -0.52830189 -0.51912791 -0.01384754 -0.40416583\n",
      "   -0.4832949  -0.11067853]]]\n",
      "[[[-0.52830189 -0.51912791 -0.01384754 -0.40416583 -0.4832949\n",
      "   -0.11067853  0.00798497]]]\n"
     ]
    }
   ],
   "source": [
    "\n",
    "def agregarNuevoValor(x_test,nuevoValor):\n",
    "    for i in range(x_test.shape[2]-1):\n",
    "        x_test[0][0][i] = x_test[0][0][i+1]\n",
    "    x_test[0][0][x_test.shape[2]-1]=nuevoValor\n",
    "    return x_test\n",
    " \n",
    "results=[]\n",
    "for i in range(7):\n",
    "    parcial=model.predict(x_test)\n",
    "    results.append(parcial[0])\n",
    "    print(x_test)\n",
    "    x_test=agregarNuevoValor(x_test,parcial[0])"
   ]
  },
  {
   "cell_type": "code",
   "execution_count": 26,
   "metadata": {},
   "outputs": [
    {
     "data": {
      "text/plain": [
       "array([[184.40354711],\n",
       "       [371.86256088],\n",
       "       [227.05447552],\n",
       "       [197.69759053],\n",
       "       [335.93826491],\n",
       "       [379.9624224 ],\n",
       "       [255.21853468]])"
      ]
     },
     "execution_count": 26,
     "metadata": {},
     "output_type": "execute_result"
    }
   ],
   "source": [
    "adimen = [x for x in results]    \n",
    "inverted = scaler.inverse_transform(adimen)\n",
    "inverted"
   ]
  },
  {
   "cell_type": "code",
   "execution_count": 27,
   "metadata": {},
   "outputs": [
    {
     "data": {
      "image/png": "[encoded data removed]",
      "text/plain": [
       "<Figure size 1152x648 with 1 Axes>"
      ]
     },
     "metadata": {
      "needs_background": "light"
     },
     "output_type": "display_data"
    }
   ],
   "source": [
    "prediccion1SemanaDiciembre = pd.DataFrame(inverted)\n",
    "prediccion1SemanaDiciembre.columns = ['pronostico']\n",
    "prediccion1SemanaDiciembre.plot()\n",
    "prediccion1SemanaDiciembre.to_csv('pronostico.csv')"
   ]
  },
  {
   "cell_type": "code",
   "execution_count": null,
   "metadata": {},
   "outputs": [],
   "source": []
  }
 ],
 "metadata": {
  "kernelspec": {
   "display_name": "Python 3",
   "language": "python",
   "name": "python3"
  },
  "language_info": {
   "codemirror_mode": {
    "name": "ipython",
    "version": 3
   },
   "file_extension": ".py",
   "mimetype": "text/x-python",
   "name": "python",
   "nbconvert_exporter": "python",
   "pygments_lexer": "ipython3",
   "version": "3.7.4"
  }
 },
 "nbformat": 4,
 "nbformat_minor": 2
}
